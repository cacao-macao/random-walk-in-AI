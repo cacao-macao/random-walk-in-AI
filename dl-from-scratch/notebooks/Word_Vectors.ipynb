{
 "cells": [
  {
   "cell_type": "markdown",
   "source": [
    "# WORD VECTORS\n",
    "\n",
    "The first and arguably the most important common denominator across all NLP tasks is how to represent words as input to any model. We also need to have some notion of similarity and difference between words.\n",
    "\n",
    "Word vectors are often used as a fundamental component for downstream NLP tasks, e.g. question answering, text generation, machine translation, etc. It is important to build some intuition as to their strengths and weaknesses.\n",
    "\n",
    "We want to encode word tokens each into some vector that represents a point in some sort of \"word\" space. Ideally, each dimension would encode some meaning that we transfer using speech. With word vectors, we can quite easily compute similarity of words using different measures such as Jaccard coefficient, Cosine similarity or Euclidean distance.\n",
    "\n",
    "There are different methods to find word embeddings (word vectors). The most simple word vector is the <b>one-hot vector</b>. It represents every word as an $ \\mathbb{R}^{|V| x 1} $ vector with all 0s and one 1 at the index if that word in the dictionary:\n",
    "\n",
    "$$ V['cat'] = 2 \\implies w^{cat} = \\begin{bmatrix} 0 \\\\ 0 \\\\ 1 \\\\ 0 \\\\ \\vdots \\\\ 0 \\end{bmatrix} $$\n",
    "\n",
    "However, this representation does not give us directly any notion of similarity. All the word vectors are pairwise orthogonal. Using cosine similarity as an example, we would get:\n",
    "\n",
    "![Motel Hotel](img/word2vec_motel_hotel.png \"Motel Hotel\")\n",
    "\n",
    "\n",
    "The idea is to try to reduce the size of this vector space from $ \\mathbb{R}^{|V|} $ to something smaller and thus find a subspace that enocdes the relationship between words. The term \"embedding\" refers to the fact that we are encoding aspects of a word's meaning in a lower dimensional space.\n",
    "\n",
    "Many word vector implementations are driven by the idea that similar words (or even synonyms) will be used in similar contexts and, by examining these contexts, we can try to develop embeddings for our words. This idea is based on the famous quotation by John Rupert Firth <i>\"You shall know a word by the company it keeps.\"</i>\n",
    "\n",
    "![Word Context](img/word2vec_context.png \"Word Context\")"
   ],
   "metadata": {}
  },
  {
   "cell_type": "code",
   "execution_count": 21,
   "source": [
    "import numpy as np\n",
    "import matplotlib.pyplot as plt\n",
    "import time\n",
    "import sys\n",
    "sys.path.append(\"../\")\n",
    "\n",
    "import collections\n",
    "import itertools\n",
    "\n",
    "from src.word2vec import word2vec\n",
    "from src.solver import UnsupervisedSolver\n",
    "from src.layers import sigmoid, word_embedding_forward, negative_sampling_loss\n",
    "from src.utils.gradient_check import eval_numerical_gradient, rel_error\n",
    "\n",
    "# for auto-reloading external modules\n",
    "%load_ext autoreload\n",
    "%autoreload 2\n",
    "\n",
    "# plot configuration\n",
    "%matplotlib inline\n",
    "plt.rcParams[\"figure.figsize\"] = (15.0, 12.0) # set default size of plots\n",
    "plt.rcParams['image.interpolation'] = 'nearest'\n",
    "plt.rcParams['image.cmap'] = 'gray'"
   ],
   "outputs": [
    {
     "output_type": "stream",
     "name": "stdout",
     "text": [
      "The autoreload extension is already loaded. To reload it, use:\n",
      "  %reload_ext autoreload\n"
     ]
    }
   ],
   "metadata": {}
  },
  {
   "cell_type": "markdown",
   "source": [
    "## Count-based Methods\n",
    "\n",
    "Many \"old school\" approaches to constructing word vectors relied on word counts. We loop over a massive dataset and accumulate word co-occurrence counts in some form of a matrix $ X $.\n",
    "\n",
    "### Word-Document Matrix\n",
    "\n",
    "We could make the conjecture that words that are related will often appear in the same documents and we use this fact to build a word-document matrix $ X $ in the following manner: loop over billions of documents and for each time a word <i>i</i> appears in document <i>j</i>, we add one to the entry $ X_{ij} $.\n",
    "\n",
    "Document 1: \"all that glitters is not gold\"  \n",
    "Document 2: \"all is well that ends well\"  \n",
    "\n",
    "|     *    | doc1 | doc2 |\n",
    "|----------|------|------|\n",
    "| all      |  1   |  1   |\n",
    "| that     |  1   |  1   |\n",
    "| glitters |  1   |  0   |\n",
    "| is       |  1   |  1   |\n",
    "| not      |  1   |  0   |\n",
    "| gold     |  1   |  0   |\n",
    "| well     |  0   |  2   |\n",
    "| ends     |  0   |  1   |\n",
    "\n",
    "Now, the rows of our matrix could be the vector embeddings of our words. However, the problem with this matrix is that it scales with the number of documents.\n",
    "\n",
    "### Window Co-occurrence Matrix\n",
    "\n",
    "Another approach we could try is to count the number of times each word appears inside a window of a particular size around the word of interest. Given a word in a document $ w_{i} $, we consider <i>the context window</i> of size $ n $ surrounding $ w_{i} $, i.e. the $ n $ preceeding and $ n $ subsequent words in that document ( $ w_{i-n}, ..., w_{i-1} $ and $ w_{i+1}, ..., w_{i+n} $ ).We build a co-occurrence matrix $ M $ in which $ M_{ij} $ is the number of times $ w_{j} $ occurs inside $ w_{i} $ 's window. To build the matrix we calculate this count for all the words and all the documents.\n",
    "\n",
    "Document 1: \"all that glitters is not gold\"  \n",
    "Document 2: \"all is well that ends well\"  \n",
    "\n",
    "\n",
    "|     *    | `<START>` | all | that | glitters | is   | not  | gold  | well | ends | `<END>` |\n",
    "|----------|-------|-----|------|----------|------|------|-------|------|------|-----|\n",
    "| `<START>`    | 0     | 2   | 0    | 0        | 0    | 0    | 0     | 0    | 0    | 0   |\n",
    "| all      | 2     | 0   | 1    | 0        | 1    | 0    | 0     | 0    | 0    | 0   |\n",
    "| that     | 0     | 1   | 0    | 1        | 0    | 0    | 0     | 1    | 1    | 0   |\n",
    "| glitters | 0     | 0   | 1    | 0        | 1    | 0    | 0     | 0    | 0    | 0   |\n",
    "| is       | 0     | 1   | 0    | 1        | 0    | 1    | 0     | 1    | 0    | 0   |\n",
    "| not      | 0     | 0   | 0    | 0        | 1    | 0    | 1     | 0    | 0    | 0   |\n",
    "| gold     | 0     | 0   | 0    | 0        | 0    | 1    | 0     | 0    | 0    | 1   |\n",
    "| well     | 0     | 0   | 1    | 0        | 1    | 0    | 0     | 0    | 1    | 1   |\n",
    "| ends     | 0     | 0   | 1    | 0        | 0    | 0    | 0     | 1    | 0    | 0   |\n",
    "| `<END>`      | 0     | 0   | 0    | 0        | 0    | 0    | 1     | 1    | 0    | 0   |\n",
    "\n",
    "<b>Note</b>: It is often the practice to add  `<START>` and `<END` tokens to represent the beginning and end of sentences, paragraphs or documents.\n",
    "\n",
    "Again, the rows of our matrix could be the vector embeddings of our words, however, the size of the vector space is still $ \\mathbb{R}^{|V|} $. To address this problem we can perform <i>dimensionality reduction</i> using <i>Singular Value Decomposition</i>. We decompose $ M = U \\Sigma V^{T} $ and select the top $ k $ principle components by truncating the matrix $ U $.\n",
    "\n",
    "In practice, it is challenging to apply full SVD to large corpora because of the memory needed to perform the decomposition. However, if you only want the top $ k $ vector components for a relatively small $ k $ then there are reasonably scalable techniques to compute those iteratively.\n",
    "\n",
    "<b>Note:</b> We could also perform SVD on the Word-Document matrix, however, the window-based assumption is much more reasonable. The Word-Document matrix could be regarded, in a sense, as a Window Co-occurrence matrix with variable window size equal to the length of the current document.\n",
    "\n",
    "\n",
    "## Iteration-based Methods\n",
    "\n",
    "Another approach is to try to create a model that will be able to learn one iteration at a time and eventually be able to encode the probability of a word given its context.\n",
    "\n",
    "The idea is to train a simple neural network with a single hidden layer to perform a cetain task, but then we're not actually going to use that neural network for the task we trained it on. Instead, the goal is to actually just learn the weights of the hidden layer. These weights are actually the \"word vectors\".\n",
    "\n",
    "A <b>language model</b> assigns probability to a sequence of tokens. A good language model will assign high probability to valid sentences and low probability to invalid sentences. Mathematically we can express this by:\n",
    "\n",
    "$$ \\displaystyle\n",
    "P(w_{1}, w_{2}, ..., w_{k}) = \\prod_{i=2}^{k} P(w_{i} | w_{i-1}, ..., w_{1}) $$\n",
    "\n",
    "for a sentence with $ k $ words.\n",
    "\n",
    "A <i>unary language model</i> assumes the word occurrences are completely independent:\n",
    "\n",
    "$$ \\displaystyle\n",
    "P(w_{1}, w_{2}, ..., w_{k}) = \\prod_{i=1}^{k} P(w_{i}) $$\n",
    "\n",
    "However, this model is not very accurate because we know that the next word is highly contingent upon the previous sequence of words. So we could try using an <i>n-gram language model</i> where we assume that each word occurence depends on the previous $ n-1 $ words.\n",
    "\n",
    "$$ \\displaystyle\n",
    "P(w_{1}, w_{2}, ..., w_{k}) = \\prod_{i=2}^{k} P(w_{i} | w_{i-1}, ..., w_{i-(n-1)}) $$\n",
    "\n",
    "The idea was further developed and two algorithms for learning word vectors were proposed in 2013 by Tomas Mikolov, Kai Chen, Greg Corrado and Jeff Dean in their paper:  \n",
    "<i>[1] \" Efficient Estimation of Word Representations in Vector Space\"</i>.\n",
    " * <b>Continuous bag-of-words (CBOW)</b>, which aims to predict a center word from the surrounding context.\n",
    " * <b>Skip-gram</b>, which aims to predict the distribution (probability) of context words from a center words."
   ],
   "metadata": {}
  },
  {
   "cell_type": "markdown",
   "source": [
    "## CBOW\n",
    "\n",
    "#### The Fake Task\n",
    "The goal of the CBOW algorithm is: given context words to accurately learn to predict the center word.\n",
    "\n",
    "For given context words $ w_{t-m}, ..., w_{t-1}, w_{t+1}, ..., w_{t+m} $ the probability of the center word is:\n",
    "\n",
    "$$ P(w_{t} |  w_{t-m}, ..., w_{t-1}, w_{t+1}, ..., w_{t+m}) $$\n",
    "\n",
    "The exact ordering of the words in the context is ignored, only the number of occurances of each term is material, thus the name <i>bag-of-words</i>.\n",
    "\n",
    "Given specific context words $ w_{t-m}, ..., w_{t-1}, w_{t+1}, ..., w_{t+m} $, a question arrises how to calculate that probability $ P(w_{t} |  w_{t-m}, ..., w_{t-1}, w_{t+1}, ..., w_{t+m}) $. Assume we have <i>some</i> learned embeddings of the words (say $ u_{1}, u_{2}, ..., u_{|V|} $). For a given context around a center word $ w_{t} $, we take the average of the vectors of the context words:\n",
    "\n",
    "$$ \\displaystyle\n",
    "\\upsilon_{t} = \\frac{u_{t-m} + ... + u_{t-1} + u_{t+1} + ... + u_{t+m}}{2m} $$\n",
    "\n",
    "Having obtained the vector $ \\upsilon_{t} $, we can use softmax classification to compute the probability for each word in the dictionary to be our center word.\n",
    "\n",
    "$$\n",
    "\\begin{bmatrix} - \\space \\upsilon_{t} \\space - \\end{bmatrix}\n",
    "\\begin{bmatrix} | & | & \\cdots & | \\\\ \n",
    "                \\theta_{1} & \\theta_{2} & \\cdots & \\theta_{|V|} \\\\\n",
    "                | & | & \\cdots & |\n",
    "\\end{bmatrix}\n",
    "=\n",
    "\\begin{bmatrix} \\upsilon_{t} \\theta_{1} \\\\\n",
    "                \\upsilon_{t} \\theta_{2} \\\\\n",
    "                \\vdots \\\\\n",
    "                \\upsilon_{t} \\theta_{|V|}\n",
    "\\end{bmatrix}\n",
    "\\underset{softmax}{\\Rightarrow}\n",
    "\\begin{bmatrix} \n",
    "   \\displaystyle\\frac{exp(\\upsilon_{t} \\theta_{1})}{\\displaystyle \\sum_{i=1}^{|V|}exp(\\upsilon_{t} \\theta_{i})} \\\\\n",
    "   \\displaystyle\\frac{exp(\\upsilon_{t} \\theta_{2})}{\\displaystyle \\sum_{i=1}^{|V|}exp(\\upsilon_{t} \\theta_{i})} \\\\\n",
    "                \\vdots \\\\\n",
    "   \\displaystyle\\frac{exp(\\upsilon_{t} \\theta_{|V|})}{\\displaystyle \\sum_{i=1}^{|V|}exp(\\upsilon_{t} \\theta_{i})}\n",
    "\\end{bmatrix}\n",
    "$$\n",
    "\n",
    "The weights of the softmax classifier are stored in a matrix $ W_{D x |V|} $.\n",
    "\n",
    "We now have:\n",
    "\n",
    "$$ \\displaystyle\n",
    "P(w_{t} | w_{t-m}, ..., w_{t-1}, w_{t+1}, ..., w_{t+m}) = \\frac{e^{\\upsilon_{t} \\theta_{t}}}{\\displaystyle\\sum_{i=1}^{|V|}e^{\\upsilon_{t} \\theta_{i}}} $$\n",
    "\n",
    "Let's say we have a vocabulary of $ |V| $ words, where each word is represented by a one-hot vector. If we store all the currently learned embeddings in a matrix $ U_{|V| x D} $ ($ D $ is the size of the embedding), then mapping a one-hot vector to its corresponding embedding can be seen as a vector-matrix multiplication. Multiplying a one-hot vector by a matrix effectively selects the matrix row whose index corresponds to the index of the 1 in the one-hot vector:\n",
    "\n",
    "$$ u_{t} =\n",
    "\\underbrace\n",
    "{\\begin{bmatrix} 0 & 0 & \\cdots & 0 & 1 & 0 & \\cdots & 0 \\end{bmatrix}}\n",
    "_{\\text{1 at position t}}\n",
    "\\begin{bmatrix} - \\space u_{1} \\space -  \\\\\n",
    "                - \\space u_{2} \\space -  \\\\\n",
    "                \\vdots \\\\\n",
    "                - \\space u_{t} \\space -  \\\\\n",
    "                \\vdots \\\\\n",
    "                - \\space u_{|V|} \\space -\n",
    "\\end{bmatrix} $$\n",
    "\n",
    "Calculating the sum of the embeddings of some words can be computed by stacking the one-hot vectors of these words one after another into a $ 1 x 2m|V| $ vector and stacking the embedding matrix in the same manner into a $ 2m|V| x D $ matrix:\n",
    "\n",
    "$$ \\upsilon_{t} =\n",
    "\\begin{bmatrix}\n",
    "0 & \\cdots & 1 & \\cdots & 0 & \\cdots & \\cdots & 0 & \\cdots & 1 & \\cdots & 0\n",
    "\\end{bmatrix}_{1 x 2m|V|}\n",
    "\\begin{bmatrix} - \\space u_{1} \\space -  \\\\ \n",
    "                \\vdots \\\\\n",
    "                - \\space u_{|V|} \\space - \\\\\n",
    "                - \\space u_{1} \\space -  \\\\ \n",
    "                \\vdots \\\\\n",
    "                - \\space u_{|V|} \\space - \\\\\n",
    "                \\vdots \\\\\n",
    "                \\vdots \\\\\n",
    "                - \\space u_{1} \\space -  \\\\ \n",
    "                \\vdots \\\\\n",
    "                - \\space u_{|V|} \\space -\n",
    "\\end{bmatrix}_{2m|V| x D} $$\n",
    "\n",
    "The entire process can be modelled as training a two-layer neural network. There is no activation function for the neurons in the hidden layer. The weights of the first layer are the embeddings we are trying to learn and the weights of the second layer are the weights for a softmax classifier.\n",
    "\n",
    "![CBOW](img/word2vec_cbow.png \"CBOW\")\n",
    "\n",
    "In practice, instead of multiplying one-hot vectors with the embedding matrix, we can perform simple table lookups to obtain embeddings of the contextual words and, after that, sum the vectors to arrive at the desired result.\n",
    "\n",
    "#### The objective function\n",
    "\n",
    "For each position in a text $ t = 1, ..., T $ we predict the center word given the context words within a window of size $ m $. Thus, the likelihood of the text is given by the product of the probabilities of the center words:\n",
    "\n",
    "$$ \\displaystyle\n",
    "\\underbrace{\\text{Likelihood =} L(\\eta)}_{\\substack{\\eta \\space \\text{is all variables} \\\\ \\text{ to be optimized}}} = \\prod_{t=1}^{T} P(w_{t} |  w_{t-m}, ..., w_{t-1}, w_{t+1}, ..., w_{t+m}; \\eta) $$\n",
    "\n",
    "The objective function (the loss) is the average negative log of the likelihood:  \n",
    "\n",
    "\n",
    "$$ \\displaystyle\n",
    "J(\\eta) = -\\frac{1}{T}logL(\\eta) = -\\frac{1}{T}\\sum_{t=1}^{T} logP(w_{t} |  w_{t-m}, ..., w_{t-1}, w_{t+1}, ..., w_{t+m}; \\eta) $$  \n",
    "\n",
    "\n",
    "$$ \\displaystyle\n",
    "J(\\eta) = -\\frac{1}{T} \\sum_{t=1}^{T} log \\frac{e^{\\upsilon_{t}\\theta_{t}}}{\\displaystyle\\sum_{i=1}^{|v|} e^{\\upsilon_{t}\\theta_{i}}} $$  \n",
    "\n",
    "\n",
    "$$ \\displaystyle\n",
    "J(\\eta) = \\frac{1}{T} \\sum_{t=1}^{T} (log \\sum_{i=1}^{|V|} e^{\\upsilon_{t}\\theta_{i}} -  \\upsilon_{t}\\theta_{t}) $$  \n",
    "\n",
    "\n",
    "The loss for each example is equal to the cross-entropy loss between the true distribution (the one-hot vector of the center word) and the predicted distribution.\n",
    "\n",
    "To perform one step in the optimization process, we need to find the gradients of the loss function with repsect to the parameters of the model $ \\frac{\\delta J}{\\delta U} $ and $ \\frac{\\delta J}{\\delta W} $. To calculate them we will use the chain rule:  \n",
    "\n",
    "\n",
    "$$ \\displaystyle\n",
    "\\frac{\\delta J}{\\delta W} = \\frac{\\delta J}{\\delta scores} \\frac{\\delta scores}{\\delta W} $$  \n",
    "\n",
    "\n",
    "$$ \\displaystyle\n",
    "\\frac{\\delta J}{\\delta U} = \\frac{\\delta J}{\\delta scores} \\frac{\\delta scores}{\\delta W} \\frac{\\delta W}{\\delta U} \\frac{\\delta U}{\\delta X} = \\frac{\\delta J}{\\delta W} \\frac{\\delta W}{\\delta U} \\frac{\\delta U}{\\delta X} $$  \n",
    "\n",
    "\n",
    "$$ \\displaystyle\n",
    "\\frac{\\delta J}{\\delta scores} =\n",
    "\\begin{bmatrix}\n",
    "\\displaystyle\\frac{\\delta J}{\\delta s_{11}} & \\displaystyle\\frac{\\delta J}{\\delta s_{12}} & \\cdots & \\displaystyle\\frac{\\delta J}{\\delta s_{1|V|}} \\\\\n",
    "\\displaystyle\\frac{\\delta J}{\\delta s_{21}} & \\displaystyle\\frac{\\delta J}{\\delta s_{22}} & \\cdots & \\displaystyle\\frac{\\delta J}{\\delta s_{2|V|}} \\\\\n",
    "\\vdots & \\vdots & \\ddots & \\vdots \\\\\n",
    "\\displaystyle\\frac{\\delta J}{\\delta s_{T1}} & \\displaystyle\\frac{\\delta J}{\\delta s_{T2}} & \\cdots & \\displaystyle\\frac{\\delta J}{\\delta s_{T|V|}}\n",
    "\\end{bmatrix} $$  \n",
    "\n",
    "\n",
    "$$ \\displaystyle\n",
    "\\frac{\\delta J}{\\delta s_{ij}} = \\frac{\\delta J}{\\delta \\upsilon_{i}\\theta_{j}}\n",
    "= \\frac{1}{T} \\left( \\frac{e^{\\upsilon_{i}\\theta_{j}}}{\\displaystyle\\sum_{k=1}^{|V|} e^{\\upsilon_{i}\\theta_{k}}} - \\underbrace{1_{\\{y(i) = j\\}}}_{\\text{1 if the label of i is j}} \\right) $$  \n",
    "\n",
    "\n",
    "We will train the model by going through each word in the text and considering it as a center word. For every center word we consider a contextual window of a fixed size (for example <i>window_size</i>=2).\n",
    "\n",
    "![Word Context CBOW](img/word2vec_context_cbow.png \"Word Context CBOW\")"
   ],
   "metadata": {}
  },
  {
   "cell_type": "code",
   "execution_count": 2,
   "source": [
    "# Initialize random data.\n",
    "np.random.seed(seed=0)\n",
    "N = 5\n",
    "T = 4\n",
    "V = 10\n",
    "D = 8\n",
    "\n",
    "X = np.random.randint(low=0, high=V, size=(N, 2*T + 1))\n",
    "context = np.concatenate((X[:, : T], X[:, T + 1 : ]), axis=1)\n",
    "target = X[:, T].reshape(N, 1)\n",
    "\n",
    "print(\"context:\\n\", context)\n",
    "print(\"target:\\n\", target)"
   ],
   "outputs": [
    {
     "output_type": "stream",
     "name": "stdout",
     "text": [
      "context:\n",
      " [[5 0 3 3 9 3 5 2]\n",
      " [4 7 6 8 1 6 7 7]\n",
      " [8 1 5 9 9 4 3 0]\n",
      " [3 5 0 2 8 1 3 3]\n",
      " [3 7 0 1 9 0 4 7]]\n",
      "target:\n",
      " [[7]\n",
      " [8]\n",
      " [8]\n",
      " [3]\n",
      " [9]]\n"
     ]
    }
   ],
   "metadata": {}
  },
  {
   "cell_type": "code",
   "execution_count": 3,
   "source": [
    "# Check the forward pass.\n",
    "np.random.seed(seed=0)\n",
    "CBOW = word2vec(vocab_size=V, embed_size=D,\n",
    "                model_type=\"cbow\", dtype=np.float64)\n",
    "\n",
    "word_vectors, _ = word_embedding_forward(context, CBOW.params[\"U\"])\n",
    "\n",
    "np.set_printoptions(precision=3)\n",
    "print(\"word vectors:\\n\", word_vectors)"
   ],
   "outputs": [
    {
     "output_type": "stream",
     "name": "stdout",
     "text": [
      "word vectors:\n",
      " [[[-0.332 -0.449 -0.54   0.617 -0.161 -0.139 -0.396  0.246]\n",
      "  [ 0.558  0.127  0.31   0.709  0.591 -0.309  0.3   -0.048]\n",
      "  [ 0.718 -0.46   0.014 -0.059  0.485  0.465  0.049  0.12 ]\n",
      "  [ 0.718 -0.46   0.014 -0.059  0.485  0.465  0.049  0.12 ]\n",
      "  [ 0.36  -0.39   0.127 -0.217 -0.275 -0.183 -0.099  0.018]\n",
      "  [ 0.718 -0.46   0.014 -0.059  0.485  0.465  0.049  0.12 ]\n",
      "  [-0.332 -0.449 -0.54   0.617 -0.161 -0.139 -0.396  0.246]\n",
      "  [ 0.472 -0.065  0.099 -0.27  -0.807  0.207  0.273 -0.235]]\n",
      "\n",
      " [[-0.281 -0.626 -0.11   0.049  0.389  0.38  -0.122 -0.096]\n",
      "  [ 0.021  0.096 -0.201 -0.115 -0.213 -0.114 -0.257 -0.546]\n",
      "  [-0.51  -0.067 -0.283  0.122 -0.162 -0.373 -0.009  0.135]\n",
      "  [ 0.056 -0.127 -0.516  0.146 -0.287  0.016  0.231  0.041]\n",
      "  [-0.033  0.13   0.046  0.46   0.241  0.038  0.14   0.106]\n",
      "  [-0.51  -0.067 -0.283  0.122 -0.162 -0.373 -0.009  0.135]\n",
      "  [ 0.021  0.096 -0.201 -0.115 -0.213 -0.114 -0.257 -0.546]\n",
      "  [ 0.021  0.096 -0.201 -0.115 -0.213 -0.114 -0.257 -0.546]]\n",
      "\n",
      " [[ 0.056 -0.127 -0.516  0.146 -0.287  0.016  0.231  0.041]\n",
      "  [-0.033  0.13   0.046  0.46   0.241  0.038  0.14   0.106]\n",
      "  [-0.332 -0.449 -0.54   0.617 -0.161 -0.139 -0.396  0.246]\n",
      "  [ 0.36  -0.39   0.127 -0.217 -0.275 -0.183 -0.099  0.018]\n",
      "  [ 0.36  -0.39   0.127 -0.217 -0.275 -0.183 -0.099  0.018]\n",
      "  [-0.281 -0.626 -0.11   0.049  0.389  0.38  -0.122 -0.096]\n",
      "  [ 0.718 -0.46   0.014 -0.059  0.485  0.465  0.049  0.12 ]\n",
      "  [ 0.558  0.127  0.31   0.709  0.591 -0.309  0.3   -0.048]]\n",
      "\n",
      " [[ 0.718 -0.46   0.014 -0.059  0.485  0.465  0.049  0.12 ]\n",
      "  [-0.332 -0.449 -0.54   0.617 -0.161 -0.139 -0.396  0.246]\n",
      "  [ 0.558  0.127  0.31   0.709  0.591 -0.309  0.3   -0.048]\n",
      "  [ 0.472 -0.065  0.099 -0.27  -0.807  0.207  0.273 -0.235]\n",
      "  [ 0.056 -0.127 -0.516  0.146 -0.287  0.016  0.231  0.041]\n",
      "  [-0.033  0.13   0.046  0.46   0.241  0.038  0.14   0.106]\n",
      "  [ 0.718 -0.46   0.014 -0.059  0.485  0.465  0.049  0.12 ]\n",
      "  [ 0.718 -0.46   0.014 -0.059  0.485  0.465  0.049  0.12 ]]\n",
      "\n",
      " [[ 0.718 -0.46   0.014 -0.059  0.485  0.465  0.049  0.12 ]\n",
      "  [ 0.021  0.096 -0.201 -0.115 -0.213 -0.114 -0.257 -0.546]\n",
      "  [ 0.558  0.127  0.31   0.709  0.591 -0.309  0.3   -0.048]\n",
      "  [-0.033  0.13   0.046  0.46   0.241  0.038  0.14   0.106]\n",
      "  [ 0.36  -0.39   0.127 -0.217 -0.275 -0.183 -0.099  0.018]\n",
      "  [ 0.558  0.127  0.31   0.709  0.591 -0.309  0.3   -0.048]\n",
      "  [-0.281 -0.626 -0.11   0.049  0.389  0.38  -0.122 -0.096]\n",
      "  [ 0.021  0.096 -0.201 -0.115 -0.213 -0.114 -0.257 -0.546]]]\n"
     ]
    }
   ],
   "metadata": {}
  },
  {
   "cell_type": "code",
   "execution_count": 4,
   "source": [
    "# Check the backward pass.\n",
    "loss, grads = CBOW.loss(X)\n",
    "\n",
    "f = lambda W: CBOW.loss(X)[0]\n",
    "for name in grads:\n",
    "    grad_numeric = eval_numerical_gradient(f, CBOW.params[name], verbose=False)\n",
    "    print('%s max relative error: %e' % (name, rel_error(grad_numeric, grads[name])))"
   ],
   "outputs": [
    {
     "output_type": "stream",
     "name": "stdout",
     "text": [
      "W max relative error: 5.409319e-08\n",
      "U max relative error: 2.545553e-07\n"
     ]
    }
   ],
   "metadata": {}
  },
  {
   "cell_type": "markdown",
   "source": [
    "## Skip-Gram\n",
    "\n",
    "#### The Fake Task\n",
    "\n",
    "The goal of the Skip-Gram algorithm is: given a \"ceneter\" word $ w_{t} $ (the input word) to accurately learn the probability distribution of the contextual window surrounding $ w_{t} $. The output distribution is going to relate to how likely is to find each vocabulary word nearby our input word.\n",
    "\n",
    "For a given center word $ w_{t} $ the probability of the context words is:\n",
    "\n",
    "$$ P(w_{t-m}, ..., w_{t-1}, w_{t+1}, ..., w_{t+m} | w_{t}) $$\n",
    "\n",
    "A key difference with <i>CBOW</i> is that <b>we make a Naive Bayes assumtion for conditional independence</b>. In other words, given the center word, all output words are independent.\n",
    "\n",
    "$$ \\displaystyle\n",
    "P(w_{t-m}, ..., w_{t-1}, w_{t+1}, ..., w_{t+m} | w_{t}) \\space = \\prod_{\\substack{-m \\leq j \\leq m \\\\ j \\neq 0}} P(w_{t+j}|w_{t}) $$\n",
    "\n",
    "Given a specific word $ w_{k} $ we want to calculate the probability $ P(w_{k}|w_{t}) $, which is the probability that word $ w_{k} $ falls within the contextual window of $ w_{t} $. Again, assuming we have <i>some</i> learned embeddings of the words (say $ u_{1}, u_{2}, ..., u_{|V|} $), we can use softmax classification to compute that probability.\n",
    "\n",
    "$$\n",
    "\\begin{bmatrix} - \\space u_{t} \\space - \\end{bmatrix}\n",
    "\\begin{bmatrix} | & | & \\cdots & | \\\\\n",
    "                \\theta_{1} & \\theta_{2} & \\cdots & \\theta_{|V|} \\\\\n",
    "                | & | & \\cdots & |\n",
    "\\end{bmatrix}\n",
    "=\n",
    "\\begin{bmatrix} u_{t} \\theta_{1} \\\\\n",
    "                u_{t} \\theta_{2} \\\\\n",
    "                \\vdots \\\\\n",
    "                u_{t} \\theta_{|V|}\n",
    "\\end{bmatrix}\n",
    "\\underset{softmax}{\\Rightarrow}\n",
    "\\begin{bmatrix} \n",
    "   \\displaystyle\\frac{exp(u_{t} \\theta_{1})}{\\displaystyle \\sum_{i=1}^{|V|}exp(u_{t} \\theta_{i})} \\\\\n",
    "   \\displaystyle\\frac{exp(u_{t} \\theta_{2})}{\\displaystyle \\sum_{i=1}^{|V|}exp(u_{t} \\theta_{i})} \\\\\n",
    "                \\vdots \\\\\n",
    "   \\displaystyle\\frac{exp(u_{t} \\theta_{|V|})}{\\displaystyle \\sum_{i=1}^{|V|}exp(u_{t} \\theta_{i})}\n",
    "\\end{bmatrix}\n",
    "$$\n",
    "\n",
    "We now have:\n",
    "\n",
    "$$ \\displaystyle\n",
    "P(w_{k}|w_{t}) = \\frac{e^{u_{t} \\theta_{k}}}{\\displaystyle \\sum_{i=1}^{|V|}e^{u_{t} \\theta_{i}}} $$  \n",
    "\n",
    "Again, If we store all the currently learned embeddings in a matrix $ U_{|V| x D} $, the entire process can be modelled as training a two-layer neural network, and again, instead of multiplying a one-hot vector with the embedding matrix, we perform a simple table lookup to obtain the desired result.\n",
    "\n",
    "![Skip-Gram](img/word2vec_skip-gram.png \"Skip-Gram\")\n",
    "\n",
    "\n",
    "#### The objective function\n",
    "\n",
    "For each position in the text $ t = 1, ..., T $ we predict the context words within a window of size $ m $. Thus, the likelihood of the text is given by the product of the probabilities of the context words for every center word:\n",
    "\n",
    "$$ \\displaystyle\n",
    "\\underbrace{\\text{Likelihood =} L(\\eta)}_{\\substack{\\eta \\space \\text{is all variables} \\\\ \\text{ to be optimized}}} = \\prod_{t=1}^{T} \\prod_{\\substack{-m \\leq j \\leq m \\\\ j \\neq 0}} P(w_{t+j}\\space|w_{t}; \\eta) $$  \n",
    "\n",
    "The objective function (the loss) is the average negative log of the likelihood:\n",
    "\n",
    "\n",
    "$$ \\displaystyle\n",
    "J(\\eta) = -\\frac{1}{T}logL(\\eta) = -\\frac{1}{T}\\sum_{t=1}^{T}\\sum_{\\substack{-m \\leq j \\leq m \\\\ j \\neq 0}} logP(w_{t+j}|w_{t}; \\eta) $$  \n",
    "\n",
    "\n",
    "$$ \\displaystyle\n",
    "J(\\eta) = -\\frac{1}{T} \\sum_{t=1}^{T} \\sum_{\\substack{-m \\leq k \\leq m \\\\ k \\neq 0}} log \\frac{e^{u_{t}\\theta_{t + k}}}{\\displaystyle\\sum_{l=1}^{|V|} e^{u_{t}\\theta_{l}}} $$  \n",
    "\n",
    "\n",
    "$$ \\displaystyle\n",
    "J(\\eta) = \\frac{1}{T} \\sum_{t=1}^{T} \\left( 2m \\space log \\sum_{l=1}^{|V|} e^{u_{t}\\theta_{l}} \\space \\space - \\sum_{\\substack{-m \\leq k \\leq m \\\\ k \\neq 0}} u_{t}\\theta_{t + k} \\right) $$  \n",
    "\n",
    "The loss for each example is equal to the sum over the contextual words of the cross-entropy loss between the true distribution of a contextual word (the one-hot vector of the contextual word) and the predicted distribution.\n",
    "\n",
    "To calculate the gradients of the loss function with repsect to the parameters of the model $ \\displaystyle \\frac{\\delta J}{\\delta U} $ and $ \\displaystyle \\frac{\\delta J}{\\delta W} $ we will use the chain rule:  \n",
    "\n",
    "\n",
    "$$ \\displaystyle\n",
    "\\frac{\\delta J}{\\delta W} = \\frac{\\delta J}{\\delta scores} \\frac{\\delta scores}{\\delta W} $$  \n",
    "\n",
    "\n",
    "$$ \\displaystyle\n",
    "\\frac{\\delta J}{\\delta U} = \\frac{\\delta J}{\\delta scores} \\frac{\\delta scores}{\\delta W} \\frac{\\delta W}{\\delta U} \\frac{\\delta U}{\\delta X} = \\frac{\\delta J}{\\delta W} \\frac{\\delta W}{\\delta U} \\frac{\\delta U}{\\delta X} $$  \n",
    "\n",
    "\n",
    "$$ \\displaystyle\n",
    "\\frac{\\delta J}{\\delta scores} =\n",
    "\\begin{bmatrix}\n",
    "\\displaystyle\\frac{\\delta J}{\\delta s_{11}} & \\displaystyle\\frac{\\delta J}{\\delta s_{12}} & \\cdots & \\displaystyle\\frac{\\delta J}{\\delta s_{1|V|}} \\\\\n",
    "\\displaystyle\\frac{\\delta J}{\\delta s_{21}} & \\displaystyle\\frac{\\delta J}{\\delta s_{22}} & \\cdots & \\displaystyle\\frac{\\delta J}{\\delta s_{2|V|}} \\\\\n",
    "\\vdots & \\vdots & \\ddots & \\vdots \\\\\n",
    "\\displaystyle\\frac{\\delta J}{\\delta s_{T1}} & \\displaystyle\\frac{\\delta J}{\\delta s_{T2}} & \\cdots & \\displaystyle\\frac{\\delta J}{\\delta s_{T|V|}}\n",
    "\\end{bmatrix} $$  \n",
    "\n",
    "\n",
    "$$ \\displaystyle\n",
    "\\frac{\\delta J}{\\delta s_{ij}} = \\frac{\\delta J}{\\delta u_{i}\\theta_{j}}\n",
    "= -\\frac{2m}{T} \\left( \\frac{e^{u_{i}\\theta_{j}}}{\\displaystyle \\sum_{l=1}^{|V|} e^{u_{i}\\theta_{l}}} - \\underbrace{1_{\\{y(i) = j\\}}}_{\\text{1 if the label of i is j}} \\right) $$  \n",
    "\n",
    "\n",
    "\n",
    "#### Training the model\n",
    "\n",
    "We will train the model by going through each word in the text and considering it as a center word. For every center word we consider a contextual window of a fixed size (for example <i>window_size=2</i>).\n",
    "\n",
    "![Word context Skip-Gram](img/word2vec_context_skip-gram.png \"Word Context Skip-Gram\")"
   ],
   "metadata": {}
  },
  {
   "cell_type": "code",
   "execution_count": 5,
   "source": [
    "# Check the forward pass.\n",
    "np.random.seed(seed=0)\n",
    "SkipGram = word2vec(vocab_size=V, embed_size=D,\n",
    "                    model_type=\"skipgram\", dtype=np.float64)\n",
    "\n",
    "word_vectors, _ = word_embedding_forward(target, SkipGram.params[\"U\"])\n",
    "\n",
    "np.set_printoptions(precision=3)\n",
    "print(\"word vectors:\\n\", word_vectors)"
   ],
   "outputs": [
    {
     "output_type": "stream",
     "name": "stdout",
     "text": [
      "word vectors:\n",
      " [[[ 0.021  0.096 -0.201 -0.115 -0.213 -0.114 -0.257 -0.546]]\n",
      "\n",
      " [[ 0.056 -0.127 -0.516  0.146 -0.287  0.016  0.231  0.041]]\n",
      "\n",
      " [[ 0.056 -0.127 -0.516  0.146 -0.287  0.016  0.231  0.041]]\n",
      "\n",
      " [[ 0.718 -0.46   0.014 -0.059  0.485  0.465  0.049  0.12 ]]\n",
      "\n",
      " [[ 0.36  -0.39   0.127 -0.217 -0.275 -0.183 -0.099  0.018]]]\n"
     ]
    }
   ],
   "metadata": {}
  },
  {
   "cell_type": "code",
   "execution_count": 6,
   "source": [
    "# Check the backward pass.\n",
    "loss, grads = SkipGram.loss(X)\n",
    "\n",
    "f = lambda W: SkipGram.loss(X)[0]\n",
    "for name in grads:\n",
    "    grad_numeric = eval_numerical_gradient(f, SkipGram.params[name], verbose=False)\n",
    "    print('%s max relative error: %e' % (name, rel_error(grad_numeric, grads[name])))"
   ],
   "outputs": [
    {
     "output_type": "stream",
     "name": "stdout",
     "text": [
      "W max relative error: 2.184301e-08\n",
      "U max relative error: 3.042708e-09\n"
     ]
    }
   ],
   "metadata": {}
  },
  {
   "cell_type": "markdown",
   "source": [
    "### NOTES\n",
    "\n",
    "<b>NOTE 1:</b> Obviously, with no non-linearity in the hidden layer the two matrix multiplications can be collapsed into a single matrix, and the entire neural network transforms into a linear classifier. However, as stated earlier, the goal is not to train a classifier, but to learn the weights of the hidden layer.\n",
    "\n",
    "<b>NOTE 2:</b> It is common to see the weights of the softmax classifier also reffered to as word embeddings. For CBOW $ u_{t} $ is the embedding of $ w_{t} $ when it is a center word, and $ \\theta_{t} $ is the embedding of $ w_{t} $ when it is a context word. And vice-versa for Skip-Gram. It is also common to use both vectors to arrive at the final embedding for the word $ w_{t} $ (via concatenation or averaging).\n",
    "\n",
    "<b>NOTE 3:</b> The neural network does not know anything about the offset of the output word relative to the input word. More distant words are usually less related to the current word than those close to it. To address this problem, the authors of the paper propose to give less weight to the distant words by sampling less from those words in our training examples. That is, the parameter $ m $ denotes the <i>maximal window size</i>. For each center word we select uniformly a number $ R $ in the range $ [1, m] $ and use $ R $ as the window size for this center word. This technique is referred to as <i>dynamic window size</i>.\n",
    "\n",
    "\n",
    "\n",
    "\n",
    "It deos not learn a different set of probabilities for the word before the input versus the word after. "
   ],
   "metadata": {}
  },
  {
   "cell_type": "markdown",
   "source": [
    "## Training word vectors\n",
    "\n",
    "We will train word vectors using the Skip-Gram model on Wikipedia articles.  \n",
    "\n",
    "The dataset examined in this notebook can be downloaded from here:  \n",
    "http://mattmahoney.net/dc/text8.zip\n",
    "\n",
    "As stated earlier, we are interested in the model's parameters, not in its classification capabilities. However, if two different words appear in similar \"contexts\", then our model needs to output very similar results for these two words. And one way for the network to output similar results is if the word vectors for the context words are similar. Thus, our network is motivated to learn similar word vectors for similar words.  \n",
    "We will learn word vector representations for the most common words in the text and will replace rare words with `UNK` token. Vocabulary size greatly impacts the computation time needed for the model to learn the vector representations. Thus, we will constrain ourselves with a relatively small vocabulary.  \n",
    "The model uses L2 regularization of the weight matrices.  \n",
    "Parameter update is performed using Adam update rule."
   ],
   "metadata": {}
  },
  {
   "cell_type": "code",
   "execution_count": 7,
   "source": [
    "# Load the data.\n",
    "text8_dir = \"../datasets/text/\"\n",
    "with open(text8_dir + \"text8\", \"r\") as file:\n",
    "    text = file.read()\n",
    "    text = text.split()\n",
    "\n",
    "text = text[:1000000]\n",
    "\n",
    "print(\"Number of words in the dataset: \", len(text))\n",
    "print(\"\\nExample words: \", text[150:165])"
   ],
   "outputs": [
    {
     "output_type": "stream",
     "name": "stdout",
     "text": [
      "Number of words in the dataset:  1000000\n",
      "\n",
      "Example words:  ['as', 'authoritarian', 'political', 'structures', 'and', 'coercive', 'economic', 'institutions', 'anarchists', 'advocate', 'social', 'relations', 'based', 'upon', 'voluntary']\n"
     ]
    }
   ],
   "metadata": {}
  },
  {
   "cell_type": "code",
   "execution_count": 8,
   "source": [
    "# Preprocess the data to create word-to-int and int-to-word mappings.\n",
    "# We will index the most common words and replace rare words with \"UNK\" token.\n",
    "# collections.Counter(list).most_common(N) returns a tuple of the N most common instances\n",
    "# contained in the list along with their count number\n",
    "vocab_size = 5000\n",
    "count = [(\"UNK\", 0)]\n",
    "count.extend(collections.Counter(text).most_common(vocab_size - 1))\n",
    "count = dict(count)\n",
    "count[\"UNK\"] = len(text) - sum(count.values())\n",
    "print(\"Most common words:\\n\", dict(itertools.islice(count.items(), 25)))\n",
    "\n",
    "word_to_idx = {w: i for i, w in enumerate(count)}\n",
    "idx_to_word = {i: w for i, w in enumerate(count)}\n",
    "print(\"Vocab:\\n\", dict(itertools.islice(word_to_idx.items(), 25)))   # slicing a dictionary with itertools.islice\n",
    "\n",
    "data = [word_to_idx.get(w, word_to_idx[\"UNK\"]) for w in text]\n",
    "\n",
    "print(\"\\nVocabulary size: %d\" % vocab_size)\n",
    "print(\"Example text data:\\n\", text[:57])\n",
    "print(\"After preprocessing:\\n\", data[:57])"
   ],
   "outputs": [
    {
     "output_type": "stream",
     "name": "stdout",
     "text": [
      "Most common words:\n",
      " {'UNK': 144423, 'the': 62827, 'of': 36789, 'and': 25238, 'one': 24679, 'in': 22502, 'a': 18620, 'to': 18504, 'zero': 14349, 'nine': 14056, 'is': 11094, 'two': 10968, 'as': 7737, 'eight': 7708, 'three': 7049, 'was': 6892, 'by': 6796, 'five': 6647, 's': 6606, 'that': 6541, 'for': 6447, 'four': 6338, 'six': 6239, 'seven': 5914, 'with': 5672}\n",
      "Vocab:\n",
      " {'UNK': 0, 'the': 1, 'of': 2, 'and': 3, 'one': 4, 'in': 5, 'a': 6, 'to': 7, 'zero': 8, 'nine': 9, 'is': 10, 'two': 11, 'as': 12, 'eight': 13, 'three': 14, 'was': 15, 'by': 16, 'five': 17, 's': 18, 'that': 19, 'for': 20, 'four': 21, 'six': 22, 'seven': 23, 'with': 24}\n",
      "\n",
      "Vocabulary size: 5000\n",
      "Example text data:\n",
      " ['anarchism', 'originated', 'as', 'a', 'term', 'of', 'abuse', 'first', 'used', 'against', 'early', 'working', 'class', 'radicals', 'including', 'the', 'diggers', 'of', 'the', 'english', 'revolution', 'and', 'the', 'sans', 'culottes', 'of', 'the', 'french', 'revolution', 'whilst', 'the', 'term', 'is', 'still', 'used', 'in', 'a', 'pejorative', 'way', 'to', 'describe', 'any', 'act', 'that', 'used', 'violent', 'means', 'to', 'destroy', 'the', 'organization', 'of', 'society', 'it', 'has', 'also', 'been']\n",
      "After preprocessing:\n",
      " [632, 3668, 12, 6, 173, 2, 4288, 47, 63, 150, 124, 870, 666, 0, 161, 1, 0, 2, 1, 111, 949, 3, 1, 0, 0, 2, 1, 138, 949, 4000, 1, 173, 10, 179, 63, 5, 6, 0, 212, 7, 1230, 105, 450, 19, 63, 2302, 365, 7, 3106, 1, 1049, 2, 367, 30, 41, 38, 52]\n"
     ]
    }
   ],
   "metadata": {}
  },
  {
   "cell_type": "code",
   "execution_count": 9,
   "source": [
    "class text_dataset(object):\n",
    "    def __init__(self, data, window_size):\n",
    "        \"\"\"\n",
    "        Inputs:\n",
    "        - data: List of integers representing the preprocessed data.\n",
    "          Every integer corresponds to a character.\n",
    "        - window_size: Integer giving the contextual window size.\n",
    "        \"\"\"\n",
    "        self.data = data\n",
    "        self.window_size = window_size\n",
    "        self.span = 2 * window_size + 1 # window - target - window\n",
    "\n",
    "    def train_batch(self, batch_size):\n",
    "        \"\"\"\n",
    "        Generate the next batch of examples from the data.\n",
    "\n",
    "        Returns:\n",
    "        - batch: A numpy array of integers of shape (batch_size, seq_length) giving\n",
    "          a batch of training examples.\n",
    "        \"\"\"\n",
    "        span = self.span\n",
    "        batch = np.ndarray((batch_size, span), dtype=np.int)\n",
    "\n",
    "        for idx in range(batch_size):\n",
    "            cursor = np.random.randint(len(self.data)-span)\n",
    "            batch[idx] = self.data[cursor : cursor + span]\n",
    "\n",
    "        return batch\n",
    "\n",
    "    def num_train(self):\n",
    "        \"\"\"\n",
    "        Returns:\n",
    "        - num_train: Integer, giving the number of training examples in the dataset.\n",
    "        \"\"\"\n",
    "        return len(self.data)"
   ],
   "outputs": [],
   "metadata": {}
  },
  {
   "cell_type": "code",
   "execution_count": 10,
   "source": [
    "# Initialize the dataset.\n",
    "np.random.seed(seed=None)\n",
    "window_size = 2\n",
    "dataset = text_dataset(data, window_size)\n",
    "\n",
    "# Initialize the model\n",
    "batch_size = 128\n",
    "embed_size = 128\n",
    "SkipGram = word2vec(vocab_size=vocab_size, embed_size=embed_size,\n",
    "                    model_type=\"skipgram\",\n",
    "                    word_to_idx=word_to_idx,\n",
    "                    dtype=np.float32)"
   ],
   "outputs": [],
   "metadata": {}
  },
  {
   "cell_type": "code",
   "execution_count": 11,
   "source": [
    "# Train the model.\n",
    "word2vec_solver = UnsupervisedSolver(SkipGram, dataset,\n",
    "                                     update_rule=\"adam\",\n",
    "                                     optim_config={\"learning_rate\": 1e-2},\n",
    "                                     lr_decay=0.5,\n",
    "                                     batch_size=batch_size,\n",
    "                                     clip_norm = 5.0,\n",
    "                                     num_epochs=2,\n",
    "                                     print_every=3500,\n",
    "                                     verbose=True)\n",
    "\n",
    "tic = time.time()\n",
    "word2vec_solver.train()\n",
    "toc = time.time()\n",
    "print(\"training took %.3f minutes\" % ((toc - tic) / 60))"
   ],
   "outputs": [
    {
     "output_type": "stream",
     "name": "stdout",
     "text": [
      "Number of iterations per epoch: 7812\n",
      "(Iteration 1 / 15624) loss: 8.51641\n",
      "(Iteration 1 / 15624); Epoch(1 / 2); loss: 8.51641\n",
      "Sample:\n",
      " Nearest to friend: previously made literature profile signs serious website receives enemy features\n",
      "(Iteration 3501 / 15624) loss: 5.55426\n",
      "(Iteration 7001 / 15624) loss: 5.54042\n",
      "(Iteration 7813 / 15624); Epoch(2 / 2); loss: 5.35299\n",
      "Sample:\n",
      " Nearest to friend: daughter lady boy wife editor romantic colonel cousin replacement request\n",
      "(Iteration 10501 / 15624) loss: 5.32298\n",
      "(Iteration 14001 / 15624) loss: 5.47640\n",
      "(Iteration 15624 / 15624); Epoch(2 / 2); loss: 5.01387\n",
      "Sample:\n",
      " Nearest to friend: wife daughter hector husband son lady branden augusta sensei uncle\n",
      "training took 62.710 minutes\n"
     ]
    }
   ],
   "metadata": {}
  },
  {
   "cell_type": "code",
   "execution_count": 12,
   "source": [
    "# Plot the loss function.\n",
    "plt.plot(word2vec_solver.loss_history)\n",
    "plt.title(\"Loss history\")\n",
    "plt.xlabel(\"Iteration\")\n",
    "plt.ylabel(\"Loss\")\n",
    "\n",
    "plt.gcf().set_size_inches(12, 4)\n",
    "plt.show()"
   ],
   "outputs": [
    {
     "output_type": "display_data",
     "data": {
      "text/plain": [
       "<Figure size 864x288 with 1 Axes>"
      ],
      "image/png": "[encoded data removed]"
     },
     "metadata": {
      "needs_background": "light"
     }
    }
   ],
   "metadata": {}
  },
  {
   "cell_type": "code",
   "execution_count": 13,
   "source": [
    "# Print the nearest words\n",
    "common_words = np.array([word_to_idx[\"six\"], word_to_idx[\"eight\"], word_to_idx[\"three\"],\n",
    "                         word_to_idx[\"work\"], word_to_idx[\"friends\"], word_to_idx[\"king\"]])\n",
    "similar_words = SkipGram.sample(common_words, top_k=8)\n",
    "\n",
    "for line in similar_words:\n",
    "    print(line)\n",
    "\n",
    "# for idx in range(len(common_words)):\n",
    "#     word_id = common_words[idx]\n",
    "#     print(\"\\nNearest to %s: \" %(idx_to_word[word_id]), end=\"\")\n",
    "#     for ids in similar_words[idx]:\n",
    "#         print(idx_to_word[ids], end=\" \") "
   ],
   "outputs": [
    {
     "output_type": "stream",
     "name": "stdout",
     "text": [
      "Nearest to six: eight seven four five three zero nine one\n",
      "Nearest to eight: seven six five nine three four zero one\n",
      "Nearest to three: four six eight five seven two one zero\n",
      "Nearest to work: attitude judgment appearance incident effort albums symbolic everyone\n",
      "Nearest to friends: wife mother fellow uncle absalom lover kurtz lectures\n",
      "Nearest to king: macedon constantine duke queen prince khan pope henry\n"
     ]
    }
   ],
   "metadata": {}
  },
  {
   "cell_type": "code",
   "execution_count": 14,
   "source": [
    "U = SkipGram.params[\"U\"]\n",
    "norm_U = U / np.linalg.norm(U, axis=1, keepdims=True)\n",
    "\n",
    "king = norm_U[word_to_idx[\"king\"]]\n",
    "man = norm_U[word_to_idx[\"man\"]]\n",
    "woman = norm_U[word_to_idx[\"woman\"]]\n",
    "\n",
    "top_k = 8\n",
    "vect = king - man + woman\n",
    "args = np.argsort(norm_U.dot(vect))[::-1]\n",
    "nearest = args[1:top_k + 1]\n",
    "\n",
    "print(\"Nearest to 'king' - 'man' + 'woman': \", end=\"\")\n",
    "for ids in nearest:\n",
    "    print(idx_to_word[ids], end=\" \")"
   ],
   "outputs": [
    {
     "output_type": "stream",
     "name": "stdout",
     "text": [
      "Nearest to 'king' - 'man' + 'woman': woman emperor pope macedon prussia duke constantine prince "
     ]
    }
   ],
   "metadata": {}
  },
  {
   "cell_type": "markdown",
   "source": [
    "### Efficiency\n",
    "\n",
    "It should be noted that calculating the objective function is computationally huge. Any evaluation of the objective function would take $ O(|V|) $ time due to the summation over the entire vocabulary."
   ],
   "metadata": {}
  },
  {
   "cell_type": "code",
   "execution_count": 15,
   "source": [
    "# Generate batch.\n",
    "tic = time.time()\n",
    "for i in range(10):\n",
    "    batch = dataset.train_batch(batch_size)\n",
    "toc = time.time()\n",
    "print(\"Batch generation takes %.5f seconds\" % (toc - tic))\n",
    "\n",
    "# Compute the loss and gradients.\n",
    "tic = time.time()\n",
    "for i in range(10):\n",
    "    loss, grads = word2vec_solver.model.loss(batch)\n",
    "toc = time.time()\n",
    "print(\"Loss and grads computation takes %.5f seconds\" % (toc - tic))\n",
    "\n",
    "# Update the parameters.\n",
    "tic = time.time()\n",
    "for i in range(10):\n",
    "    for p, w in word2vec_solver.model.params.items():\n",
    "        dw = grads[p]\n",
    "        config = word2vec_solver.optim_configs[p]\n",
    "        next_w, next_config = word2vec_solver.update_rule(w, dw, config)\n",
    "toc = time.time()\n",
    "print(\"Parameter update takes %.5f seconds\" % (toc - tic))"
   ],
   "outputs": [
    {
     "output_type": "stream",
     "name": "stdout",
     "text": [
      "Batch generation takes 0.04376 seconds\n",
      "Loss and grads computation takes 1.97393 seconds\n",
      "Parameter update takes 0.31644 seconds\n"
     ]
    }
   ],
   "metadata": {}
  },
  {
   "cell_type": "code",
   "execution_count": 16,
   "source": [
    "N, span = batch.shape\n",
    "window_size = (span - 1) // 2\n",
    "\n",
    "window = np.concatenate((batch[:, : window_size], batch[:, window_size + 1 : ]), axis=1)\n",
    "target = batch[:, window_size].reshape(N, 1)\n",
    "\n",
    "N, T = window.shape\n",
    "labels = window.reshape(N * T)\n",
    "\n",
    "scores, caches = SkipGram._forward(target)\n",
    "scores = scores[:, np.newaxis, :]\n",
    "scores = np.tile(scores, (1, T, 1))\n",
    "scores = scores.reshape(N * T, -1)\n",
    "N, C = scores.shape\n",
    "\n",
    "shifted_scores = scores - np.max(scores, axis=1, keepdims=True)\n",
    "\n",
    "# Compute the exponents.\n",
    "tic = time.time()\n",
    "for i in range(10):\n",
    "    exp_scores = np.exp(shifted_scores)\n",
    "toc = time.time()\n",
    "print(\"Computing the exp scores takes %.5f seconds\" % (toc - tic))\n",
    "\n",
    "# Computhe the loss\n",
    "tic = time.time()\n",
    "for i in range(10):\n",
    "    Y = np.log(np.sum(exp_scores, axis=1, keepdims=True))\n",
    "    Z = shifted_scores - Y\n",
    "    loss = - np.sum(Z[np.arange(N), labels]) / N\n",
    "toc = time.time()\n",
    "print(\"Computing the loss takes %.5f seconds\" % (toc - tic))\n",
    "\n",
    "# Compute the grads\n",
    "tic = time.time()\n",
    "for i in range(10):\n",
    "    dscores = np.exp(Z)\n",
    "toc = time.time()\n",
    "print(\"Computing the gradients step 1 takes %.5f seconds\" % (toc - tic))\n",
    "\n",
    "# Compute the grads\n",
    "tic = time.time()\n",
    "for i in range(10):\n",
    "    dscores[np.arange(N), labels] -= 1\n",
    "    dscores /= N\n",
    "toc = time.time()\n",
    "print(\"Computing the gradients step 2 takes %.5f seconds\" % (toc - tic))"
   ],
   "outputs": [
    {
     "output_type": "stream",
     "name": "stdout",
     "text": [
      "Computing the exp scores takes 0.54444 seconds\n",
      "Computing the loss takes 0.06351 seconds\n",
      "Computing the gradients step 1 takes 0.48219 seconds\n",
      "Computing the gradients step 2 takes 0.02414 seconds\n"
     ]
    }
   ],
   "metadata": {}
  },
  {
   "cell_type": "markdown",
   "source": [
    "## Negative Sampling\n",
    "\n",
    "In 2014 Tomas Mikolov, Ilya Sutskever, Kai Chen, Greg Corrado and Jeff Dean address the problem of effiiency in their paper:  \n",
    "<i>[2] \"Distributed Representations of Word Phrases and their Compositionality\"</i>.\n",
    "\n",
    "The proposed Negative-Sampling method is described in detail by Yoav Goldberg and Omer Levy in ther paper:  \n",
    "<i>[3] \"word2vec Explained: Deriving Mikolov et. al.'s Negative-Sampling Word-Embedding Method\"</i>.\n",
    "\n",
    "In the previous setting we considered the conditional probability $ P(w_{t} | w_{t-j}, ..., w_{t-1}, w_{t+1}, ..., w_{t+j}) = P(w|c) $ of a word given its context (or similarly $ P(c, w) $) from a given corpus of text, and the goal was to maximize to corpus probability:\n",
    "\n",
    "$$ \\displaystyle\n",
    "L(\\eta) = \\prod_{t=1}^{T} P(w | c; \\eta) \\space - \\space \\text{for the CBOW algorithm} $$  \n",
    "\n",
    "$$ \\displaystyle\n",
    "L(\\eta) = \\displaystyle \\prod_{t=1}^{T} P(c | w; \\eta) \\space - \\space \\text{for the Skip-Gram algorithm} $$\n",
    "\n",
    "To do this we model the conditional probability $ P(w | c; \\eta) $ using softmax:\n",
    "\n",
    "$$ \\displaystyle\n",
    "P(w | c; \\eta) = \\frac{e^{{u_{c}\\theta_{w}}}}{\\displaystyle\\sum_{v \\in V}e^{{u_{c}\\theta_{v}}}} $$\n",
    "\n",
    "However, computing this objective is very expensive due to the summation over the entire vocabulary. A more efficient way of deriving word embeddings would be to consider a different objective. Consider a pair $ (w, c) $ of word and context and denote by $ P(D = 1| w, c) $ the probability that this pair comes from the corpus data. We can model that probability using a sigmoid function:\n",
    "\n",
    "$$ \\displaystyle\n",
    "P(D = 1|w,c; \\eta) = \\frac{1}{1 + e^{ - u_{c} \\theta_{w}}} $$\n",
    "\n",
    "In order for the model to learn we have to present some $ (w,c) $ pairs which are not in the data. Now, the new objective function tries to maximize the probability of a pair being in the corpus data if it inedeed is, and maximize the probability of a pair not being in the corpus data if it indeed is not.  \n",
    "\n",
    "\n",
    "$$ \\displaystyle\n",
    "L(\\eta) = \\prod_{(w,c) \\in D} P (D = 1|w,c;\\eta) \\prod_{(w, c) \\notin D} (1 - P(D = 1|w,c;\\eta)) $$  \n",
    "\n",
    "\n",
    "$$ \\displaystyle\n",
    "J(\\eta) = - log L(\\eta) = - \\left( \\sum_{(w,c) \\in D} log \\frac{1}{1 + e^{ - u_{c} \\theta_{w}}} + \\sum_{(w,c) \\notin D} log \\left( 1 - \\frac{1}{1 + e^{ - u_{c} \\theta_{w}}} \\right) \\right) $$  \n",
    "\n",
    "\n",
    "$$ \\displaystyle\n",
    "J(\\eta) = - \\left( \\sum_{(w,c) \\in D} log \\frac{1}{1 + e^{ - u_{c} \\theta_{w}}} + \\sum_{(w,c) \\notin D} log \\frac{1}{1 + e^{u_{c} \\theta_{w}}} \\right) $$  \n",
    "\n",
    "\n",
    "For CBOW, our new objective function for observing the center word $ w_{t} $ given the context vector $ \\displaystyle \\hat{v} = \\frac{w_{t-j} + \\cdots + w_{t-1} + w_{t+1} + \\cdots + w_{t+j}}{2j} $ would be:  \n",
    "\n",
    "\n",
    "$$ \\displaystyle\n",
    "J_{CBOW}(\\eta) = - log \\frac{1}{1 + e^{-\\theta_{t} \\hat{v}}} -  \\sum_{k=1}^{K} log \\frac{1}{1 + e^{\\theta_{k} \\hat{v}}} $$  \n",
    "\n",
    "\n",
    "Thus, the negative examples consist of our input context words and \"untrue\" center words.\n",
    "\n",
    "For Skip-Gram, our new objective function for observing the context words $ w_{t-j}, ..., w_{t-1}, w_{t+1}, ..., w_{t+j} $ given the center word $ w_{t} $ would be:  \n",
    "\n",
    "\n",
    "$$ \\displaystyle\n",
    "J_{SkipGram}(\\eta) = - \\sum_{\\substack{-m \\leq j \\leq m \\\\ j \\neq 0}} log \\frac{1}{1 + e^{-w_{t} \\theta_{t+m}}} - \\sum_{k=1}^{K} log \\frac{1}{1 + e^{w_{t} \\theta_{k}}} $$\n",
    "\n",
    "Thus, the negative examples consist of our input center word and \"untrue\" context words.\n",
    "\n",
    "The words $ \\{w_{k}\\}_{k=1}^{K} $ are sampled from a noise distribution. The authors of [2] propose sampling from a uniform distribution raised to the power of $ 3/4 $. The authors also propose working with values of $ K = 5...20 $.\n",
    "\n",
    "\n",
    "#### NOTE:\n",
    "\n",
    "For computing the second term of the objective functions, we could choose both the center word $ w_{t} $ and the context words $ w_{t-j}, ..., w_{t-1}, w_{t+1}, ..., w_{t+j} $ of the negative examples from our noisy distribution.  \n",
    "However, keeping the input and randomly sampling only the \"untrue\" output has an appealing intuitive property. Firstly, for a given input we will only update the weights of the softmax classifier for the \"true\" output and for the randomly chosen \"untrue\" outputs. And secondly, for a given input we will only update the weights of the embeddings of that input by showing the model the \"true\" output and the randomly choosen \"untrue\" outputs."
   ],
   "metadata": {}
  },
  {
   "cell_type": "code",
   "execution_count": 17,
   "source": [
    "np.random.seed(seed=0)\n",
    "N = 5\n",
    "V = 8\n",
    "K = 3\n",
    "T = 2\n",
    "\n",
    "s = np.array([np.arange(V) * 0.01] * N) * np.arange(1, N+1).reshape(N, 1)\n",
    "s = s[:, np.newaxis, :]\n",
    "s = np.tile(s, (1, T, 1))\n",
    "s = s.reshape(N*T, -1)\n",
    "\n",
    "y = np.random.randint(V, size=(N, T))\n",
    "z = np.random.randint(V, size=(N, K))"
   ],
   "outputs": [],
   "metadata": {}
  },
  {
   "cell_type": "code",
   "execution_count": 22,
   "source": [
    "# Check the forward pass.\n",
    "loss = 0\n",
    "for _n in range(N):\n",
    "    for _t in range(T):\n",
    "        loss -= np.log(sigmoid(s[_n, y[_n, _t]]))\n",
    "    for _k in range(K):\n",
    "        loss -= np.log(sigmoid(-s[_n, z[_n, _k]]))\n",
    "\n",
    "print(\"Loss = %.5f\" % loss)\n",
    "\n",
    "loss, _ = negative_sampling_loss(s, y, z)\n",
    "print(\"Loss = %.5f\" % loss)"
   ],
   "outputs": [
    {
     "output_type": "stream",
     "name": "stdout",
     "text": [
      "Loss = 17.56620\n",
      "Loss = 17.56620\n"
     ]
    }
   ],
   "metadata": {}
  },
  {
   "cell_type": "code",
   "execution_count": 23,
   "source": [
    "# Check the backward pass.\n",
    "loss, ds = negative_sampling_loss(s, y, z)\n",
    "\n",
    "f = lambda x: negative_sampling_loss(x, y, z)[0]\n",
    "ds_num = eval_numerical_gradient(f, s, verbose=False)\n",
    "print(\"max relative error: %e\" % (rel_error(ds, ds_num)))"
   ],
   "outputs": [
    {
     "output_type": "stream",
     "name": "stdout",
     "text": [
      "max relative error: 3.865674e-10\n"
     ]
    }
   ],
   "metadata": {}
  },
  {
   "cell_type": "code",
   "execution_count": 24,
   "source": [
    "# Compare the efficiency.\n",
    "np.random.seed(seed=0)\n",
    "model = word2vec(vocab_size=vocab_size, embed_size=embed_size,\n",
    "                 model_type=\"skipgram\",\n",
    "                 word_to_idx=word_to_idx,\n",
    "                 dtype=np.float32)\n",
    "\n",
    "tic = time.time()\n",
    "for i in range(10):\n",
    "    loss, grads = model.loss(batch)\n",
    "toc = time.time()\n",
    "print(\"Loss and grads computation takes %.5f seconds.\" % (toc - tic))\n",
    "\n",
    "\n",
    "model = word2vec(vocab_size=vocab_size, embed_size=embed_size,\n",
    "                 model_type=\"skipgram\",\n",
    "                 negative_sampling=10,\n",
    "                 word_to_idx=word_to_idx,\n",
    "                 dtype=np.float32)\n",
    "\n",
    "tic = time.time()\n",
    "for i in range(10):\n",
    "    loss, grads = model.loss(batch)\n",
    "toc = time.time()\n",
    "print(\"Loss and grads computation takes %.5f seconds with negative sampling.\" % (toc - tic))"
   ],
   "outputs": [
    {
     "output_type": "stream",
     "name": "stdout",
     "text": [
      "Loss and grads computation takes 2.14998 seconds.\n",
      "Loss and grads computation takes 0.76807 seconds with negative sampling.\n"
     ]
    }
   ],
   "metadata": {}
  },
  {
   "cell_type": "markdown",
   "source": [
    "## Training word vectors using Negative Sampling\n",
    "\n",
    "Again, we will train word vectors using the Skip-Gram model on Wikipedia articles. However, this time we will use the negative sampling loss to evaluate our model.    \n",
    "Again, we will learn word vector representations for the most common words in the text and will replace rare words with `UNK` token.  \n",
    "The model uses L2 regularization of the weight matrices.  \n",
    "Parameter update is performed using Adam update rule."
   ],
   "metadata": {}
  },
  {
   "cell_type": "code",
   "execution_count": 25,
   "source": [
    "# Initialize the model using negative sampling.\n",
    "np.random.seed(seed=None)\n",
    "batch_size = 128\n",
    "embed_size = 128\n",
    "num_negative_samples = 20\n",
    "\n",
    "SkipGram = word2vec(vocab_size=vocab_size, embed_size=embed_size,\n",
    "                    model_type=\"skipgram\",\n",
    "                    negative_sampling = num_negative_samples,   # use negative sampling\n",
    "                    word_to_idx=word_to_idx,\n",
    "                    dtype=np.float32)"
   ],
   "outputs": [],
   "metadata": {}
  },
  {
   "cell_type": "code",
   "execution_count": 26,
   "source": [
    "# Train the model.\n",
    "word2vec_solver = UnsupervisedSolver(SkipGram, dataset,\n",
    "                                     update_rule=\"adam\",\n",
    "                                     optim_config={\"learning_rate\": 1e-2},\n",
    "                                     lr_decay=0.5,\n",
    "                                     batch_size=batch_size,\n",
    "                                     clip_norm = 5.0,\n",
    "                                     num_epochs=2,\n",
    "                                     print_every=3500,\n",
    "                                     verbose=True)\n",
    "\n",
    "tic = time.time()\n",
    "word2vec_solver.train()\n",
    "toc = time.time()\n",
    "print(\"training took %.3f minutes\" % ((toc - tic) / 60))"
   ],
   "outputs": [
    {
     "output_type": "stream",
     "name": "stdout",
     "text": [
      "Number of iterations per epoch: 7812\n",
      "(Iteration 1 / 15624) loss: 2130.28613\n",
      "(Iteration 1 / 15624); Epoch(1 / 2); loss: 2130.28613\n",
      "Sample:\n",
      " Nearest to friend: reality aidan pierre department railway members singles francisco poet adding\n",
      "(Iteration 3501 / 15624) loss: 766.36368\n",
      "(Iteration 7001 / 15624) loss: 772.96403\n",
      "(Iteration 7813 / 15624); Epoch(2 / 2); loss: 813.54270\n",
      "Sample:\n",
      " Nearest to friend: lipsius hop cooperation observer honorary management circular warrior muslim turks\n",
      "(Iteration 10501 / 15624) loss: 761.50716\n",
      "(Iteration 14001 / 15624) loss: 712.20203\n",
      "(Iteration 15624 / 15624); Epoch(2 / 2); loss: 731.53968\n",
      "Sample:\n",
      " Nearest to friend: temples rocky wild eggs slowly wheat seven summary steven pale\n",
      "training took 29.679 minutes\n"
     ]
    }
   ],
   "metadata": {}
  },
  {
   "cell_type": "code",
   "execution_count": 27,
   "source": [
    "# Plot the loss function.\n",
    "plt.plot(word2vec_solver.loss_history)\n",
    "plt.title(\"Loss history\")\n",
    "plt.xlabel(\"Iteration\")\n",
    "plt.ylabel(\"Loss\")\n",
    "\n",
    "plt.gcf().set_size_inches(12, 4)\n",
    "plt.show()"
   ],
   "outputs": [
    {
     "output_type": "display_data",
     "data": {
      "text/plain": [
       "<Figure size 864x288 with 1 Axes>"
      ],
      "image/png": "[encoded data removed]"
     },
     "metadata": {
      "needs_background": "light"
     }
    }
   ],
   "metadata": {}
  },
  {
   "cell_type": "code",
   "execution_count": 28,
   "source": [
    "# Print the nearest words\n",
    "common_words = np.array([word_to_idx[\"six\"], word_to_idx[\"eight\"], word_to_idx[\"three\"],\n",
    "                         word_to_idx[\"work\"], word_to_idx[\"friends\"], word_to_idx[\"king\"]])\n",
    "similar_words = SkipGram.sample(common_words, top_k=8)\n",
    "\n",
    "for line in similar_words:\n",
    "    print(line)\n",
    "\n",
    "# for idx in range(len(common_words)):\n",
    "#     word_id = common_words[idx]\n",
    "#     print(\"\\nNearest to %s: \" %(idx_to_word[word_id]), end=\"\")\n",
    "#     for ids in similar_words[idx]:\n",
    "#         print(idx_to_word[ids], end=\" \") "
   ],
   "outputs": [
    {
     "output_type": "stream",
     "name": "stdout",
     "text": [
      "Nearest to six: UNK a one the in was eggs bulk\n",
      "Nearest to eight: UNK the in was a by and is\n",
      "Nearest to three: the of UNK and to in zero temples\n",
      "Nearest to work: zero the nine one was and which this\n",
      "Nearest to friends: planning temples amide abydos worker diagnostic allah summary\n",
      "Nearest to king: temples rainfall archive circa reasoning antonio bulk dealt\n"
     ]
    }
   ],
   "metadata": {}
  },
  {
   "cell_type": "code",
   "execution_count": 29,
   "source": [
    "U = SkipGram.params[\"U\"]\n",
    "norm_U = U / np.linalg.norm(U, axis=1, keepdims=True)\n",
    "\n",
    "king = norm_U[word_to_idx[\"king\"]]\n",
    "man = norm_U[word_to_idx[\"man\"]]\n",
    "woman = norm_U[word_to_idx[\"woman\"]]\n",
    "\n",
    "top_k = 8\n",
    "vect = king - man + woman\n",
    "args = np.argsort(norm_U.dot(vect))[::-1]\n",
    "nearest = args[1:top_k + 1]\n",
    "\n",
    "print(\"Nearest to 'king' - 'man' + 'woman': \", end=\"\")\n",
    "for ids in nearest:\n",
    "    print(idx_to_word[ids], end=\" \")"
   ],
   "outputs": [
    {
     "output_type": "stream",
     "name": "stdout",
     "text": [
      "Nearest to 'king' - 'man' + 'woman': king algerian sister intervention h riots j outside "
     ]
    }
   ],
   "metadata": {}
  }
 ],
 "metadata": {
  "kernelspec": {
   "display_name": "Python 3",
   "language": "python",
   "name": "python3"
  },
  "language_info": {
   "codemirror_mode": {
    "name": "ipython",
    "version": 3
   },
   "file_extension": ".py",
   "mimetype": "text/x-python",
   "name": "python",
   "nbconvert_exporter": "python",
   "pygments_lexer": "ipython3",
   "version": "3.6.9"
  }
 },
 "nbformat": 4,
 "nbformat_minor": 4
}